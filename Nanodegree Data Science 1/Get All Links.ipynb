{
 "cells": [
  {
   "cell_type": "markdown",
   "metadata": {},
   "source": [
    "# Get all links\n",
    "\n",
    "#### Get all links in a webpage"
   ]
  },
  {
   "cell_type": "code",
   "execution_count": 42,
   "metadata": {},
   "outputs": [
    {
     "name": "stdout",
     "output_type": "stream",
     "text": [
      "['#home', 'https://www.superplayer.fm/assinatura?coupon=azul', 'https://www.voeazul.com.br/', 'https://www.superplayer.fm/assinatura?coupon=azul', 'https://www.facebook.com/SuperplayerBR', 'http://instagram.com/superplayerbr', 'https://twitter.com/SuperplayerBR', 'https://www.superplayer.fm', 'http://ad.apsalar.com/api/v1/ad?re=0&a=movile_media&i=fm.superplayer.IonStorm&ca=Superplayer+4.0+iOS&an=Landing+Page+iOS&p=iOS&pl=Bot%C3%A3o+rodap%C3%A9&h=9e0a7be7d00606b9beaac76ea16ca2668e4d0e47', 'http://ad.apsalar.com/api/v1/ad?re=0&a=movile_media&i=fm.superplayer.jukebot&ca=Superplayer+4.0+Android&an=Landing+Page+Android&p=Android&pl=Bot%C3%A3o+rodap%C3%A9&h=5e16dc5d1cc9d39cbfc3ff0c6dee8b1dc1f1e009']\n"
     ]
    }
   ],
   "source": [
    "page = 'https://www.superplayer.fm/azul/'\n",
    "\n",
    "def get_page(url):\n",
    "    import urllib2\n",
    "    response = urllib2.urlopen(url)\n",
    "    html = response.read()\n",
    "    response.close()\n",
    "    return html\n",
    "\n",
    "def get_link(url):\n",
    "    init = url.find('<a href=\"')\n",
    "    if init == -1:\n",
    "        return False, 0\n",
    "    end = url.find('\"', init +9)\n",
    "    link = url[init +9:end]\n",
    "    return link, end\n",
    "    \n",
    "def get_all_links(url):\n",
    "    html = get_page(url)\n",
    "    results = []\n",
    "    while True:\n",
    "        link, end = get_link(html)\n",
    "        if link:\n",
    "            results.append(link)\n",
    "            html = html[end:]\n",
    "        else:\n",
    "            break\n",
    "    return results\n",
    "    \n",
    "print get_all_links(page)\n",
    "\n",
    "                \n",
    "    "
   ]
  },
  {
   "cell_type": "code",
   "execution_count": null,
   "metadata": {
    "collapsed": true
   },
   "outputs": [],
   "source": []
  }
 ],
 "metadata": {
  "kernelspec": {
   "display_name": "Python 2",
   "language": "python",
   "name": "python2"
  },
  "language_info": {
   "codemirror_mode": {
    "name": "ipython",
    "version": 2
   },
   "file_extension": ".py",
   "mimetype": "text/x-python",
   "name": "python",
   "nbconvert_exporter": "python",
   "pygments_lexer": "ipython2",
   "version": "2.7.13"
  }
 },
 "nbformat": 4,
 "nbformat_minor": 2
}
