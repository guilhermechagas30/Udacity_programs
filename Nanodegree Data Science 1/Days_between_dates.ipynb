{
 "cells": [
  {
   "cell_type": "markdown",
   "metadata": {},
   "source": [
    "# Days between Dates\n",
    "\n",
    "Dado seu aniversário e a data atual, calcule sua idade em dias. Leve em consideração anos bissextos. Pressuponha que a data atual e o aniversário estão corretos (e nada de viagem no tempo). De maneira simples: se você nasceu no dia 1/Jan/2012 e hoje é dia 2/Jan/2012, você tem um dia de idade.\n"
   ]
  },
  {
   "cell_type": "markdown",
   "metadata": {},
   "source": [
    "My Function"
   ]
  },
  {
   "cell_type": "code",
   "execution_count": 6,
   "metadata": {},
   "outputs": [],
   "source": [
    "import datetime \n",
    "import calendar\n",
    "now = datetime.datetime.now()\n",
    "\n",
    "def day_between_dates(day, month, year):\n",
    "    import datetime\n",
    "    import calendar\n",
    "\n",
    "    now = datetime.datetime.now()\n",
    "    #my_birthday = datetime.datetime.strptime('30 04 1986', '%d %m %Y')\n",
    "\n",
    "    standard_year = [31, 28, 31, 30, 31, 30, 31, 31, 30, 31, 30, 31]\n",
    "    leap_year = [31, 29, 31, 30, 31, 30, 31, 31, 30, 31, 30, 31]\n",
    "\n",
    "    #i_year = my_birthday.year\n",
    "    #i_month = my_birthday.month\n",
    "    #i_day = my_birthday.day\n",
    "    i_year = year\n",
    "    i_month = month\n",
    "    i_day = day\n",
    "    days = 0\n",
    "\n",
    "    while True:    \n",
    "\n",
    "        array = standard_year\n",
    "        if calendar.isleap(i_year):\n",
    "            array = leap_year\n",
    "\n",
    "        if i_day == array[i_month -1]: #last day of month\n",
    "            i_day = 1\n",
    "            if i_month == 12: #last month of year\n",
    "                i_month = 1\n",
    "                i_year = i_year + 1\n",
    "            else:\n",
    "                i_month = i_month + 1\n",
    "            days = days + 1\n",
    "        else:       \n",
    "            days = days + 1\n",
    "            i_day = i_day + 1\n",
    "\n",
    "\n",
    "        if i_day == now.day and i_month == now.month and i_year == now.year:\n",
    "            break\n",
    "\n",
    "    return days\n",
    "    "
   ]
  },
  {
   "cell_type": "markdown",
   "metadata": {
    "collapsed": true
   },
   "source": [
    "Proof"
   ]
  },
  {
   "cell_type": "code",
   "execution_count": 7,
   "metadata": {},
   "outputs": [
    {
     "name": "stdout",
     "output_type": "stream",
     "text": [
      "11437\n",
      "11437 days, 20:53:34.570456\n"
     ]
    }
   ],
   "source": [
    "print( day_between_dates(30, 4, 1986))\n",
    "\n",
    "my_birthday = datetime.datetime.strptime('30 04 1986', '%d %m %Y')\n",
    "print((now - my_birthday))"
   ]
  },
  {
   "cell_type": "code",
   "execution_count": 8,
   "metadata": {},
   "outputs": [
    {
     "name": "stdout",
     "output_type": "stream",
     "text": [
      "9599\n",
      "9599 days, 20:53:34.570456\n"
     ]
    }
   ],
   "source": [
    "print( day_between_dates(12, 5, 1991))\n",
    "\n",
    "my_birthday = datetime.datetime.strptime('12 05 1991', '%d %m %Y')\n",
    "print((now - my_birthday))"
   ]
  },
  {
   "cell_type": "code",
   "execution_count": null,
   "metadata": {
    "collapsed": true
   },
   "outputs": [],
   "source": []
  }
 ],
 "metadata": {
  "kernelspec": {
   "display_name": "Python 2",
   "language": "python",
   "name": "python2"
  },
  "language_info": {
   "codemirror_mode": {
    "name": "ipython",
    "version": 2
   },
   "file_extension": ".py",
   "mimetype": "text/x-python",
   "name": "python",
   "nbconvert_exporter": "python",
   "pygments_lexer": "ipython2",
   "version": "2.7.13"
  }
 },
 "nbformat": 4,
 "nbformat_minor": 2
}
